{
 "cells": [
  {
   "cell_type": "code",
   "execution_count": 1,
   "metadata": {},
   "outputs": [],
   "source": [
    "import echolens"
   ]
  },
  {
   "cell_type": "code",
   "execution_count": 2,
   "metadata": {},
   "outputs": [],
   "source": [
    "IM = echolens.CMB_Bharat()"
   ]
  },
  {
   "cell_type": "code",
   "execution_count": 3,
   "metadata": {},
   "outputs": [
    {
     "data": {
      "text/plain": [
       "array([ 28,  35,  45,  65,  75,  95, 115, 130, 145, 165, 190, 220, 275,\n",
       "       340, 390, 450, 520, 600, 700, 850])"
      ]
     },
     "execution_count": 3,
     "metadata": {},
     "output_type": "execute_result"
    }
   ],
   "source": [
    "# Get the frequency of the CMB bharat\n",
    "IM.get_frequency()"
   ]
  },
  {
   "cell_type": "code",
   "execution_count": 4,
   "metadata": {},
   "outputs": [
    {
     "data": {
      "text/plain": [
       "array([39.9 , 31.9 , 24.8 , 17.1 , 14.91, 11.7 ,  9.72,  8.59,  7.7 ,\n",
       "        6.77,  5.88,  5.08,  4.06,  3.28,  3.26,  2.86,  2.48,  1.86,\n",
       "        1.59,  1.31])"
      ]
     },
     "execution_count": 4,
     "metadata": {},
     "output_type": "execute_result"
    }
   ],
   "source": [
    "# Get the FWHM of the CMB bharat\n",
    "IM.get_fwhm()"
   ]
  },
  {
   "cell_type": "code",
   "execution_count": 5,
   "metadata": {},
   "outputs": [
    {
     "data": {
      "text/plain": [
       "array([1.650e+01, 1.330e+01, 1.190e+01, 8.900e+00, 5.100e+00, 4.600e+00,\n",
       "       3.100e+00, 3.100e+00, 3.400e+00, 2.500e+00, 2.800e+00, 3.300e+00,\n",
       "       6.300e+00, 1.140e+01, 2.190e+01, 4.340e+01, 1.020e+02, 2.880e+02,\n",
       "       1.122e+03, 9.550e+03])"
      ]
     },
     "execution_count": 5,
     "metadata": {},
     "output_type": "execute_result"
    }
   ],
   "source": [
    "# Get the polarization noise rms of the CMB bharat\n",
    "IM.get_noise_p()"
   ]
  },
  {
   "cell_type": "code",
   "execution_count": 6,
   "metadata": {},
   "outputs": [
    {
     "data": {
      "text/plain": [
       "array([1.16672619e+01, 9.40452019e+00, 8.41457070e+00, 6.29325035e+00,\n",
       "       3.60624458e+00, 3.25269119e+00, 2.19203102e+00, 2.19203102e+00,\n",
       "       2.40416306e+00, 1.76776695e+00, 1.97989899e+00, 2.33345238e+00,\n",
       "       4.45477272e+00, 8.06101731e+00, 1.54856385e+01, 3.06884343e+01,\n",
       "       7.21248917e+01, 2.03646753e+02, 7.93373808e+02, 6.75286976e+03])"
      ]
     },
     "execution_count": 6,
     "metadata": {},
     "output_type": "execute_result"
    }
   ],
   "source": [
    "# Get the temperature noise rms of the CMB bharat\n",
    "IM.get_noise_t()"
   ]
  },
  {
   "cell_type": "code",
   "execution_count": 7,
   "metadata": {},
   "outputs": [
    {
     "name": "stdout",
     "output_type": "stream",
     "text": [
      "Freq 65\n",
      "FWHM 17.1\n",
      "Noise P 8.9\n",
      "Noise T 6.293250352560273\n"
     ]
    }
   ],
   "source": [
    "# Get 3rd channel frequency of the CMB bharat\n",
    "print('Freq', IM.get_frequency(3))\n",
    "\n",
    "# Get 3rd channel FWHM of the CMB bharat\n",
    "print('FWHM', IM.get_fwhm(3))\n",
    "\n",
    "# Get 3rd channel polarization noise rms of the CMB bharat\n",
    "print('Noise P', IM.get_noise_p(3))\n",
    "\n",
    "# Get 3rd channel temperature noise rms of the CMB bharat\n",
    "print('Noise T', IM.get_noise_t(3))"
   ]
  },
  {
   "cell_type": "code",
   "execution_count": 8,
   "metadata": {},
   "outputs": [
    {
     "name": "stdout",
     "output_type": "stream",
     "text": [
      "FWHM 17.1\n",
      "Noise P 8.9\n",
      "Noise T 6.293250352560273\n"
     ]
    }
   ],
   "source": [
    "# Get FWHM of the frequency 65 GHz\n",
    "print('FWHM', IM.get_fwhm(freq=65))\n",
    "\n",
    "# Get noise polarization of the frequency 65 GHz\n",
    "print('Noise P', IM.get_noise_p(freq=65))\n",
    "\n",
    "# Get noise temperature of the frequency 65 GHz\n",
    "print('Noise T', IM.get_noise_t(freq=65))"
   ]
  },
  {
   "cell_type": "code",
   "execution_count": null,
   "metadata": {},
   "outputs": [],
   "source": []
  }
 ],
 "metadata": {
  "kernelspec": {
   "display_name": "base",
   "language": "python",
   "name": "python3"
  },
  "language_info": {
   "codemirror_mode": {
    "name": "ipython",
    "version": 3
   },
   "file_extension": ".py",
   "mimetype": "text/x-python",
   "name": "python",
   "nbconvert_exporter": "python",
   "pygments_lexer": "ipython3",
   "version": "3.9.19"
  }
 },
 "nbformat": 4,
 "nbformat_minor": 2
}
