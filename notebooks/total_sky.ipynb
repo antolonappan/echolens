{
 "cells": [
  {
   "cell_type": "code",
   "execution_count": 1,
   "metadata": {},
   "outputs": [],
   "source": [
    "import matplotlib.pyplot as plt\n",
    "import healpy as hp\n",
    "import sys\n",
    "sys.path.append('..')"
   ]
  },
  {
   "cell_type": "code",
   "execution_count": 2,
   "metadata": {},
   "outputs": [],
   "source": [
    "%load_ext autoreload\n",
    "%autoreload 2\n",
    "from echolens import simulation"
   ]
  },
  {
   "cell_type": "code",
   "execution_count": 3,
   "metadata": {},
   "outputs": [],
   "source": [
    "folder = '/Users/antoidicherianlonappan/Workspace/scratch'\n",
    "model = ['d0','s0']\n",
    "nside = 1024"
   ]
  },
  {
   "cell_type": "code",
   "execution_count": 4,
   "metadata": {},
   "outputs": [],
   "source": [
    "sky = simulation.CMBbharatSky(folder,nside,model)"
   ]
  },
  {
   "cell_type": "code",
   "execution_count": 6,
   "metadata": {},
   "outputs": [
    {
     "name": "stdout",
     "output_type": "stream",
     "text": [
      "alm2lenmap: using 8 nthreads\n",
      "  build angles <- synthesis (GRAD_ONLY):  [0:00:01.965103] (36.4%)  \n",
      "  build angles <- th-phi-gm (ducc)     :  [0:00:00.060402] (1.1%)  \n",
      "  build_angles                         :  [0:00:02.025518] (37.5%)  \n",
      "  synthesis general (STANDARD)         :  [0:00:00.799902] (14.8%)  \n",
      "  gclm2lenmap                          :  [0:00:05.373775] (99.4%)  \n",
      "  synthesis general (GRAD_ONLY)        :  [0:00:02.533641] (46.9%)  \n",
      "  polrot (ducc)                        :  [0:00:00.014682] (0.3%)  \n",
      "  Total                                :  [0:00:05.404592] d:h:m:s:mus\n"
     ]
    },
    {
     "name": "stderr",
     "output_type": "stream",
     "text": [
      "computing foregrounds: 100%|██████████| 20/20 [00:14<00:00,  1.38Freq/s]\n",
      "Total Sky: 100%|██████████| 20/20 [00:10<00:00,  1.96Freq/s]\n"
     ]
    }
   ],
   "source": [
    "alm = sky.observed_alms(0)"
   ]
  },
  {
   "cell_type": "code",
   "execution_count": null,
   "metadata": {},
   "outputs": [],
   "source": []
  }
 ],
 "metadata": {
  "kernelspec": {
   "display_name": "cosmos",
   "language": "python",
   "name": "python3"
  },
  "language_info": {
   "codemirror_mode": {
    "name": "ipython",
    "version": 3
   },
   "file_extension": ".py",
   "mimetype": "text/x-python",
   "name": "python",
   "nbconvert_exporter": "python",
   "pygments_lexer": "ipython3",
   "version": "3.8.19"
  }
 },
 "nbformat": 4,
 "nbformat_minor": 2
}
